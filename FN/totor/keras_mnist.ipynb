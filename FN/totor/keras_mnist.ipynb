{
  "cells": [
    {
      "cell_type": "code",
      "execution_count": 1,
      "metadata": {},
      "outputs": [],
      "source": [
        "%load_ext autoreload\n",
        "%autoreload 2\n",
        "%matplotlib inline"
      ]
    },
    {
      "cell_type": "code",
      "execution_count": 2,
      "metadata": {},
      "outputs": [],
      "source": [
        "import numpy as np\n",
        "from sklearn.model_selection import train_test_split\n",
        "from sklearn.datasets import load_digits\n",
        "from sklearn.metrics import classification_report\n",
        "from tensorflow import keras as K"
      ]
    },
    {
      "cell_type": "code",
      "execution_count": 3,
      "metadata": {},
      "outputs": [
        {
          "name": "stdout",
          "output_type": "stream",
          "text": [
            ".. _digits_dataset:\n",
            "\n",
            "Optical recognition of handwritten digits dataset\n",
            "--------------------------------------------------\n",
            "\n",
            "**Data Set Characteristics:**\n",
            "\n",
            "    :Number of Instances: 1797\n",
            "    :Number of Attributes: 64\n",
            "    :Attribute Information: 8x8 image of integer pixels in the range 0..16.\n",
            "    :Missing Attribute Values: None\n",
            "    :Creator: E. Alpaydin (alpaydin '@' boun.edu.tr)\n",
            "    :Date: July; 1998\n",
            "\n",
            "This is a copy of the test set of the UCI ML hand-written digits datasets\n",
            "https://archive.ics.uci.edu/ml/datasets/Optical+Recognition+of+Handwritten+Digits\n",
            "\n",
            "The data set contains images of hand-written digits: 10 classes where\n",
            "each class refers to a digit.\n",
            "\n",
            "Preprocessing programs made available by NIST were used to extract\n",
            "normalized bitmaps of handwritten digits from a preprinted form. From a\n",
            "total of 43 people, 30 contributed to the training set and different 13\n",
            "to the test set. 32x32 bitmaps are divided into nonoverlapping blocks of\n",
            "4x4 and the number of on pixels are counted in each block. This generates\n",
            "an input matrix of 8x8 where each element is an integer in the range\n",
            "0..16. This reduces dimensionality and gives invariance to small\n",
            "distortions.\n",
            "\n",
            "For info on NIST preprocessing routines, see M. D. Garris, J. L. Blue, G.\n",
            "T. Candela, D. L. Dimmick, J. Geist, P. J. Grother, S. A. Janet, and C.\n",
            "L. Wilson, NIST Form-Based Handprint Recognition System, NISTIR 5469,\n",
            "1994.\n",
            "\n",
            ".. topic:: References\n",
            "\n",
            "  - C. Kaynak (1995) Methods of Combining Multiple Classifiers and Their\n",
            "    Applications to Handwritten Digit Recognition, MSc Thesis, Institute of\n",
            "    Graduate Studies in Science and Engineering, Bogazici University.\n",
            "  - E. Alpaydin, C. Kaynak (1998) Cascading Classifiers, Kybernetika.\n",
            "  - Ken Tang and Ponnuthurai N. Suganthan and Xi Yao and A. Kai Qin.\n",
            "    Linear dimensionalityreduction using relevance weighted LDA. School of\n",
            "    Electrical and Electronic Engineering Nanyang Technological University.\n",
            "    2005.\n",
            "  - Claudio Gentile. A New Approximate Maximal Margin Classification\n",
            "    Algorithm. NIPS. 2000.\n",
            "\n"
          ]
        }
      ],
      "source": [
        "dataset = load_digits()\n",
        "print(dataset.DESCR)"
      ]
    },
    {
      "cell_type": "code",
      "execution_count": 4,
      "metadata": {},
      "outputs": [
        {
          "name": "stdout",
          "output_type": "stream",
          "text": [
            "env: TF_FORCE_GPU_ALLOW_GROWTH=true\n"
          ]
        }
      ],
      "source": [
        "%env TF_FORCE_GPU_ALLOW_GROWTH=true"
      ]
    },
    {
      "cell_type": "code",
      "execution_count": 5,
      "metadata": {},
      "outputs": [
        {
          "name": "stdout",
          "output_type": "stream",
          "text": [
            "Epoch 1/8\n",
            "38/38 [==============================] - 2s 3ms/step - loss: 2.2186\n",
            "Epoch 2/8\n",
            "38/38 [==============================] - 0s 2ms/step - loss: 1.3785\n",
            "Epoch 3/8\n",
            "38/38 [==============================] - 0s 2ms/step - loss: 0.6626\n",
            "Epoch 4/8\n",
            "38/38 [==============================] - 0s 2ms/step - loss: 0.4164\n",
            "Epoch 5/8\n",
            "38/38 [==============================] - 0s 2ms/step - loss: 0.3066\n",
            "Epoch 6/8\n",
            "38/38 [==============================] - 0s 2ms/step - loss: 0.2422\n",
            "Epoch 7/8\n",
            "38/38 [==============================] - 0s 2ms/step - loss: 0.2008\n",
            "Epoch 8/8\n",
            "38/38 [==============================] - 0s 2ms/step - loss: 0.1745\n"
          ]
        },
        {
          "data": {
            "text/plain": [
              "<keras.callbacks.History at 0x7f52780d3910>"
            ]
          },
          "execution_count": 5,
          "metadata": {},
          "output_type": "execute_result"
        }
      ],
      "source": [
        "image_shape = (8, 8, 1)\n",
        "num_class = 10\n",
        "\n",
        "y = dataset.target\n",
        "y = K.utils.to_categorical(y, num_class)\n",
        "X = dataset.data\n",
        "X = np.array([data.reshape(image_shape) for data in X])\n",
        "\n",
        "X_train, X_test, y_train, y_test = train_test_split(\n",
        "    X, y, test_size=0.33)\n",
        "\n",
        "model = K.Sequential([\n",
        "    K.layers.Conv2D(\n",
        "        5, kernel_size=3, strides=1, padding=\"same\",\n",
        "        input_shape=image_shape, activation=\"relu\"),\n",
        "    K.layers.Conv2D(\n",
        "        3, kernel_size=2, strides=1, padding=\"same\",\n",
        "        activation=\"relu\"),\n",
        "    K.layers.Flatten(),\n",
        "    K.layers.Dense(units=num_class, activation=\"softmax\")\n",
        "])\n",
        "model.compile(loss=\"categorical_crossentropy\", optimizer=\"sgd\")\n",
        "model.fit(X_train, y_train, epochs=8)"
      ]
    },
    {
      "cell_type": "code",
      "execution_count": 6,
      "metadata": {},
      "outputs": [
        {
          "name": "stdout",
          "output_type": "stream",
          "text": [
            "19/19 [==============================] - 0s 2ms/step\n",
            "              precision    recall  f1-score   support\n",
            "\n",
            "           0       1.00      0.98      0.99        65\n",
            "           1       0.79      0.97      0.87        69\n",
            "           2       1.00      0.96      0.98        46\n",
            "           3       0.92      0.98      0.95        56\n",
            "           4       0.97      0.93      0.95        60\n",
            "           5       0.89      0.97      0.93        58\n",
            "           6       0.95      0.95      0.95        57\n",
            "           7       0.98      0.95      0.97        59\n",
            "           8       0.93      0.77      0.84        56\n",
            "           9       0.98      0.87      0.92        68\n",
            "\n",
            "    accuracy                           0.93       594\n",
            "   macro avg       0.94      0.93      0.93       594\n",
            "weighted avg       0.94      0.93      0.93       594\n",
            "\n"
          ]
        }
      ],
      "source": [
        "predicts = model.predict(X_test)\n",
        "predicts = np.argmax(predicts, axis=1)\n",
        "actual = np.argmax(y_test, axis=1)\n",
        "print(classification_report(actual, predicts))"
      ]
    }
  ],
  "metadata": {
    "kernelspec": {
      "display_name": "reinforcement_learning_baby_steps-VR8oVVia",
      "language": "python",
      "name": "python3"
    },
    "language_info": {
      "codemirror_mode": {
        "name": "ipython",
        "version": 3
      },
      "file_extension": ".py",
      "mimetype": "text/x-python",
      "name": "python",
      "nbconvert_exporter": "python",
      "pygments_lexer": "ipython3",
      "version": "3.10.6"
    },
    "vscode": {
      "interpreter": {
        "hash": "4808b600dd36e096ff98d2b448648ad582d0d841bd72c5f32aafa3117ba88a6b"
      }
    }
  },
  "nbformat": 4,
  "nbformat_minor": 2
}
