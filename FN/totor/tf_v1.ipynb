{
 "cells": [
  {
   "cell_type": "code",
   "execution_count": 1,
   "metadata": {},
   "outputs": [],
   "source": [
    "%load_ext autoreload\n",
    "%autoreload 2\n",
    "%matplotlib inline"
   ]
  },
  {
   "cell_type": "code",
   "execution_count": 2,
   "metadata": {},
   "outputs": [],
   "source": [
    "import numpy as np\n",
    "import tensorflow as tf\n",
    "\n",
    "tf.compat.v1.disable_eager_execution()"
   ]
  },
  {
   "cell_type": "code",
   "execution_count": 5,
   "metadata": {},
   "outputs": [],
   "source": [
    "# Weight (row=4 x col=2).\n",
    "a = tf.Variable(np.random.rand(4, 2))\n",
    "\n",
    "# Bias (row=4 x col=1).\n",
    "b = tf.Variable(np.random.rand(4, 1))\n",
    "\n",
    "# Input(x) (row=2 x col=1).\n",
    "x = tf.compat.v1.placeholder(tf.float64, shape=(2, 1))\n",
    "\n",
    "# Output(y) (row=4 x col=1).\n",
    "y = tf.matmul(a, x) + b"
   ]
  },
  {
   "cell_type": "code",
   "execution_count": 9,
   "metadata": {},
   "outputs": [
    {
     "name": "stdout",
     "output_type": "stream",
     "text": [
      "(4, 1)\n"
     ]
    }
   ],
   "source": [
    "with tf.compat.v1.Session() as sess:\n",
    "    # Initialize variable.\n",
    "    init = tf.compat.v1.global_variables_initializer()\n",
    "    sess.run(init)\n",
    "\n",
    "    # Make input to x.\n",
    "    x_value = np.random.rand(2, 1)\n",
    "\n",
    "    # Execute calculation.\n",
    "    y_output = sess.run(y, feed_dict={x: x_value})\n",
    "    print(y_output.shape)  # Will be (4, 1)"
   ]
  },
  {
   "cell_type": "code",
   "execution_count": 10,
   "metadata": {},
   "outputs": [
    {
     "name": "stdout",
     "output_type": "stream",
     "text": [
      "(3, 4, 1)\n"
     ]
    }
   ],
   "source": [
    "with tf.compat.v1.Session() as sess:\n",
    "    # Initialize variable.\n",
    "    init = tf.compat.v1.global_variables_initializer()\n",
    "    sess.run(init)\n",
    "\n",
    "    # Make batch.\n",
    "    batch = []\n",
    "    for i in range(3):\n",
    "        x_value = np.random.rand(2, 1)\n",
    "        batch.append(x_value)\n",
    "\n",
    "    # Execute calculation.\n",
    "    y_outputs = []\n",
    "    for x_value in batch:\n",
    "        y_output = sess.run(y, feed_dict={x: x_value})\n",
    "        y_outputs.append(y_output)\n",
    "\n",
    "    y_output = np.array(y_outputs)\n",
    "    print(y_output.shape)  # Will be (3, 4, 1)"
   ]
  }
 ],
 "metadata": {
  "kernelspec": {
   "display_name": "reinforcement_learning_baby_steps-VR8oVVia",
   "language": "python",
   "name": "python3"
  },
  "language_info": {
   "codemirror_mode": {
    "name": "ipython",
    "version": 3
   },
   "file_extension": ".py",
   "mimetype": "text/x-python",
   "name": "python",
   "nbconvert_exporter": "python",
   "pygments_lexer": "ipython3",
   "version": "3.10.6"
  },
  "orig_nbformat": 4,
  "vscode": {
   "interpreter": {
    "hash": "4808b600dd36e096ff98d2b448648ad582d0d841bd72c5f32aafa3117ba88a6b"
   }
  }
 },
 "nbformat": 4,
 "nbformat_minor": 2
}
