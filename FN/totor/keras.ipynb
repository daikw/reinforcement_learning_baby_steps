{
 "cells": [
  {
   "cell_type": "code",
   "execution_count": 1,
   "metadata": {},
   "outputs": [],
   "source": [
    "%load_ext autoreload\n",
    "%autoreload 2\n",
    "%matplotlib inline"
   ]
  },
  {
   "cell_type": "code",
   "execution_count": 2,
   "metadata": {},
   "outputs": [],
   "source": [
    "import numpy as np\n",
    "import tensorflow as tf\n",
    "from tensorflow.python import keras as K"
   ]
  },
  {
   "cell_type": "code",
   "execution_count": 3,
   "metadata": {},
   "outputs": [
    {
     "name": "stdout",
     "output_type": "stream",
     "text": [
      "tf.Tensor(6.0, shape=(), dtype=float32)\n",
      "tf.Tensor(\n",
      "[[ 2.9831564  5.3258195]\n",
      " [ 5.966313  10.651639 ]\n",
      " [ 8.94947   15.977459 ]], shape=(3, 2), dtype=float32)\n",
      "tf.Tensor([2.9831564 5.3258195], shape=(2,), dtype=float32)\n"
     ]
    }
   ],
   "source": [
    "# gradient\n",
    "\n",
    "x = tf.Variable(3.0)\n",
    " \n",
    "with tf.GradientTape() as tape:\n",
    "  y = x**2\n",
    "\n",
    "dy_dx = tape.gradient(y, x)\n",
    "print(dy_dx)\n",
    "\n",
    "\n",
    "w = tf.Variable(tf.random.normal((3, 2)), name='w')\n",
    "b = tf.Variable(tf.zeros(2, dtype=tf.float32), name='b')\n",
    "x = [[1., 2., 3.]]\n",
    "\n",
    "with tf.GradientTape(persistent=True) as tape:\n",
    "    y = x @ w + b\n",
    "    loss = tf.reduce_mean(y**2)\n",
    "\n",
    "[dl_dw, dl_db] = tape.gradient(loss, [w, b])\n",
    "\n",
    "print(dl_dw)\n",
    "print(dl_db)"
   ]
  },
  {
   "cell_type": "code",
   "execution_count": 4,
   "metadata": {},
   "outputs": [
    {
     "name": "stdout",
     "output_type": "stream",
     "text": [
      "Weight shape is (2, 4).\n",
      "Bias shape is (4,).\n",
      "x is ((1, 2)) and y is ((1, 4)).\n"
     ]
    }
   ],
   "source": [
    "# Prediction by simple layer\n",
    "model = K.Sequential([\n",
    "    K.layers.Dense(units=4, input_shape=((2, ))),\n",
    "])\n",
    "\n",
    "weight, bias = model.layers[0].get_weights()\n",
    "print(\"Weight shape is {}.\".format(weight.shape))\n",
    "print(\"Bias shape is {}.\".format(bias.shape))\n",
    "\n",
    "x = np.random.rand(1, 2)\n",
    "y = model.predict(x)\n",
    "print(\"x is ({}) and y is ({}).\".format(x.shape, y.shape))"
   ]
  },
  {
   "cell_type": "code",
   "execution_count": 5,
   "metadata": {},
   "outputs": [
    {
     "name": "stdout",
     "output_type": "stream",
     "text": [
      "(3, 4)\n"
     ]
    }
   ],
   "source": [
    "# Prediction by neural network\n",
    "\n",
    "# 2-layer neural network.\n",
    "model = K.Sequential([\n",
    "    K.layers.Dense(units=4, input_shape=((2, )),\n",
    "                   activation=\"sigmoid\"),\n",
    "    K.layers.Dense(units=4),\n",
    "])\n",
    "\n",
    "# Make batch size = 3 data (dimension of x is 2).\n",
    "batch = np.random.rand(3, 2)\n",
    "\n",
    "y = model.predict(batch)\n",
    "print(y.shape)  # Will be (3, 4)"
   ]
  }
 ],
 "metadata": {
  "kernelspec": {
   "display_name": "reinforcement_learning_baby_steps-VR8oVVia",
   "language": "python",
   "name": "python3"
  },
  "language_info": {
   "codemirror_mode": {
    "name": "ipython",
    "version": 3
   },
   "file_extension": ".py",
   "mimetype": "text/x-python",
   "name": "python",
   "nbconvert_exporter": "python",
   "pygments_lexer": "ipython3",
   "version": "3.10.6"
  },
  "orig_nbformat": 4,
  "vscode": {
   "interpreter": {
    "hash": "4808b600dd36e096ff98d2b448648ad582d0d841bd72c5f32aafa3117ba88a6b"
   }
  }
 },
 "nbformat": 4,
 "nbformat_minor": 2
}
